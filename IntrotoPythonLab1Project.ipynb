{
 "cells": [
  {
   "cell_type": "code",
   "execution_count": 3,
   "metadata": {},
   "outputs": [
    {
     "name": "stdout",
     "output_type": "stream",
     "text": [
      "enter somethings eaten in last 24 hrs: Pizza, dog Food, cat, beer\n",
      "Pizza, dog Food, cat, beer\n",
      "Dairy:  False\n",
      "Nuts:  False\n",
      "Seafood False\n",
      "Chocolate False\n"
     ]
    }
   ],
   "source": [
    "# Create Allergy check code\n",
    "# then PASTE THIS CODE into edX\n",
    "\n",
    "# [ ] get input for input_test variable\n",
    "test_input = input(\"enter somethings eaten in last 24 hrs: \")\n",
    "print(test_input)\n",
    "\n",
    "# [ ] print \"True\" message if \"dairy\" is in the input or False message if not\n",
    "print(\"Dairy: \" , 'dairy'.lower() in test_input.lower())\n",
    "\n",
    "# [ ] print True message if \"nuts\" is in the input or False if not\n",
    "print(\"Nuts: \" , 'nuts'.lower() in test_input.lower())\n",
    "\n",
    "# [ ] Challenge: Check if \"seafood\" is in the input - print message\n",
    "print(\"Seafood\", 'seafood'.lower() in test_input.lower())\n",
    "\n",
    "# [ ] Challenge: Check if \"chocolate\" is in the input - print message\n",
    "print(\"Chocolate\", 'chocolate'.lower() in test_input.lower())"
   ]
  },
  {
   "cell_type": "code",
   "execution_count": null,
   "metadata": {},
   "outputs": [],
   "source": []
  }
 ],
 "metadata": {
  "kernelspec": {
   "display_name": "Python 3",
   "language": "python",
   "name": "python3"
  },
  "language_info": {
   "codemirror_mode": {
    "name": "ipython",
    "version": 3
   },
   "file_extension": ".py",
   "mimetype": "text/x-python",
   "name": "python",
   "nbconvert_exporter": "python",
   "pygments_lexer": "ipython3",
   "version": "3.6.4"
  }
 },
 "nbformat": 4,
 "nbformat_minor": 2
}
